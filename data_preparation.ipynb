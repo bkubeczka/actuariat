{
 "cells": [
  {
   "cell_type": "markdown",
   "metadata": {},
   "source": [
    "# Constantes et Librairies"
   ]
  },
  {
   "cell_type": "code",
   "execution_count": 1,
   "metadata": {},
   "outputs": [
    {
     "name": "stdout",
     "output_type": "stream",
     "text": [
      "asttokens==2.4.1\n",
      "colorama==0.4.6\n",
      "comm==0.2.2\n",
      "debugpy==1.8.1\n",
      "decorator==5.1.1\n",
      "executing==2.0.1\n",
      "ipykernel==6.29.4\n",
      "ipython==8.25.0\n",
      "jedi==0.19.1\n",
      "jupyter_client==8.6.2\n",
      "jupyter_core==5.7.2\n",
      "matplotlib-inline==0.1.7\n",
      "nest-asyncio==1.6.0\n",
      "numpy==1.26.4\n",
      "packaging==24.0\n",
      "pandas==2.2.2\n",
      "parso==0.8.4\n",
      "platformdirs==4.2.2\n",
      "prompt_toolkit==3.0.45\n",
      "psutil==5.9.8\n",
      "pure-eval==0.2.2\n",
      "Pygments==2.18.0\n",
      "python-dateutil==2.9.0.post0\n",
      "pytz==2024.1\n",
      "pywin32==306\n",
      "pyzmq==26.0.3\n",
      "six==1.16.0\n",
      "stack-data==0.6.3\n",
      "tornado==6.4\n",
      "traitlets==5.14.3\n",
      "tzdata==2024.1\n",
      "wcwidth==0.2.13\n",
      "Note: you may need to restart the kernel to use updated packages.\n"
     ]
    }
   ],
   "source": [
    "pip freeze"
   ]
  },
  {
   "cell_type": "code",
   "execution_count": 2,
   "metadata": {},
   "outputs": [],
   "source": [
    "import pickle\n",
    "import os\n",
    "import sys\n",
    "import pandas as pd"
   ]
  },
  {
   "cell_type": "code",
   "execution_count": 3,
   "metadata": {},
   "outputs": [],
   "source": [
    "# CONSTANTES\n",
    "\n",
    "# Environnement de développement\n",
    "PYTHON_VERSION = \"3.12.3\"\n",
    "\n",
    "# Base de données\n",
    "FILENAME_BASE_AUTO = \"base_auto_projet.pkl\"\n",
    "DIR_DATA = \"./data\""
   ]
  },
  {
   "cell_type": "code",
   "execution_count": 4,
   "metadata": {},
   "outputs": [],
   "source": [
    "# Vérification de la version python courante\n",
    "if not(PYTHON_VERSION in sys.version):\n",
    "    print(f\"ATTENTION : ce notebook a été développé sous python {PYTHON_VERSION}.\")\n",
    "    print(f\"version courante de python : {sys.version}\")\n"
   ]
  },
  {
   "cell_type": "markdown",
   "metadata": {},
   "source": [
    "# Chargement des données"
   ]
  },
  {
   "cell_type": "code",
   "execution_count": 5,
   "metadata": {},
   "outputs": [
    {
     "name": "stdout",
     "output_type": "stream",
     "text": [
      "./data\\base_auto_projet.pkl\n"
     ]
    }
   ],
   "source": [
    "filename = os.path.join(DIR_DATA, FILENAME_BASE_AUTO)\n",
    "print(filename)"
   ]
  },
  {
   "cell_type": "code",
   "execution_count": 6,
   "metadata": {},
   "outputs": [],
   "source": [
    "with open(file=os.path.join(DIR_DATA, FILENAME_BASE_AUTO), mode=\"rb\") as f:\n",
    "    base_auto = pd.read_pickle(f)"
   ]
  },
  {
   "cell_type": "markdown",
   "metadata": {},
   "source": [
    "# Jeu de données"
   ]
  },
  {
   "cell_type": "code",
   "execution_count": 7,
   "metadata": {},
   "outputs": [
    {
     "data": {
      "text/plain": [
       "(72878, 21)"
      ]
     },
     "execution_count": 7,
     "metadata": {},
     "output_type": "execute_result"
    }
   ],
   "source": [
    "base_auto.shape"
   ]
  },
  {
   "cell_type": "markdown",
   "metadata": {},
   "source": [
    "Taille du jeu de données\n",
    "\n",
    "- 72878 observations\n",
    "\n",
    "- 21 features"
   ]
  },
  {
   "cell_type": "code",
   "execution_count": 8,
   "metadata": {},
   "outputs": [
    {
     "ename": "TypeError",
     "evalue": "'Index' object is not callable",
     "output_type": "error",
     "traceback": [
      "\u001b[1;31m---------------------------------------------------------------------------\u001b[0m",
      "\u001b[1;31mTypeError\u001b[0m                                 Traceback (most recent call last)",
      "Cell \u001b[1;32mIn[8], line 1\u001b[0m\n\u001b[1;32m----> 1\u001b[0m \u001b[43mbase_auto\u001b[49m\u001b[38;5;241;43m.\u001b[39;49m\u001b[43mcolumns\u001b[49m\u001b[43m(\u001b[49m\u001b[43m)\u001b[49m\n",
      "\u001b[1;31mTypeError\u001b[0m: 'Index' object is not callable"
     ]
    }
   ],
   "source": [
    "base_auto.columns()"
   ]
  },
  {
   "cell_type": "code",
   "execution_count": 9,
   "metadata": {},
   "outputs": [
    {
     "data": {
      "text/html": [
       "<div>\n",
       "<style scoped>\n",
       "    .dataframe tbody tr th:only-of-type {\n",
       "        vertical-align: middle;\n",
       "    }\n",
       "\n",
       "    .dataframe tbody tr th {\n",
       "        vertical-align: top;\n",
       "    }\n",
       "\n",
       "    .dataframe thead th {\n",
       "        text-align: right;\n",
       "    }\n",
       "</style>\n",
       "<table border=\"1\" class=\"dataframe\">\n",
       "  <thead>\n",
       "    <tr style=\"text-align: right;\">\n",
       "      <th></th>\n",
       "      <th>EXPOSITION</th>\n",
       "      <th>V_GROUPE_SRA</th>\n",
       "      <th>V_PUISSANCE</th>\n",
       "      <th>C_ZONE_RISQUE</th>\n",
       "      <th>C_CRM</th>\n",
       "      <th>C_ANCIENNETE_PERMIS</th>\n",
       "      <th>C_AGE</th>\n",
       "      <th>V_ANCIENNETE</th>\n",
       "      <th>CHARGE</th>\n",
       "      <th>NB_SINISTRES</th>\n",
       "      <th>ID</th>\n",
       "      <th>ANNEE_OBS</th>\n",
       "      <th>MOIS_OBS</th>\n",
       "    </tr>\n",
       "  </thead>\n",
       "  <tbody>\n",
       "    <tr>\n",
       "      <th>count</th>\n",
       "      <td>72878.000000</td>\n",
       "      <td>72878.000000</td>\n",
       "      <td>69298.000000</td>\n",
       "      <td>72878.000000</td>\n",
       "      <td>72878.000000</td>\n",
       "      <td>72878.000000</td>\n",
       "      <td>65460.000000</td>\n",
       "      <td>72878.000000</td>\n",
       "      <td>72878.000000</td>\n",
       "      <td>72878.000000</td>\n",
       "      <td>72878.000000</td>\n",
       "      <td>72878.000000</td>\n",
       "      <td>72878.000000</td>\n",
       "    </tr>\n",
       "    <tr>\n",
       "      <th>mean</th>\n",
       "      <td>0.075626</td>\n",
       "      <td>0.999767</td>\n",
       "      <td>1.168259</td>\n",
       "      <td>2.033124</td>\n",
       "      <td>97.405582</td>\n",
       "      <td>2.387273</td>\n",
       "      <td>46.883134</td>\n",
       "      <td>5.762926</td>\n",
       "      <td>21.525779</td>\n",
       "      <td>0.008741</td>\n",
       "      <td>1451.338730</td>\n",
       "      <td>2019.738838</td>\n",
       "      <td>6.411825</td>\n",
       "    </tr>\n",
       "    <tr>\n",
       "      <th>std</th>\n",
       "      <td>0.019123</td>\n",
       "      <td>0.015271</td>\n",
       "      <td>0.894770</td>\n",
       "      <td>1.212347</td>\n",
       "      <td>7.236469</td>\n",
       "      <td>6.363081</td>\n",
       "      <td>15.666065</td>\n",
       "      <td>4.724290</td>\n",
       "      <td>351.454691</td>\n",
       "      <td>0.096556</td>\n",
       "      <td>933.302155</td>\n",
       "      <td>1.549749</td>\n",
       "      <td>3.470973</td>\n",
       "    </tr>\n",
       "    <tr>\n",
       "      <th>min</th>\n",
       "      <td>0.002738</td>\n",
       "      <td>0.000000</td>\n",
       "      <td>0.000000</td>\n",
       "      <td>1.000000</td>\n",
       "      <td>0.000000</td>\n",
       "      <td>-0.750000</td>\n",
       "      <td>14.520000</td>\n",
       "      <td>-1.140000</td>\n",
       "      <td>-6258.800000</td>\n",
       "      <td>0.000000</td>\n",
       "      <td>0.000000</td>\n",
       "      <td>2016.000000</td>\n",
       "      <td>1.000000</td>\n",
       "    </tr>\n",
       "    <tr>\n",
       "      <th>25%</th>\n",
       "      <td>0.079398</td>\n",
       "      <td>1.000000</td>\n",
       "      <td>1.000000</td>\n",
       "      <td>1.000000</td>\n",
       "      <td>95.000000</td>\n",
       "      <td>0.040000</td>\n",
       "      <td>36.600000</td>\n",
       "      <td>1.600000</td>\n",
       "      <td>0.000000</td>\n",
       "      <td>0.000000</td>\n",
       "      <td>669.000000</td>\n",
       "      <td>2019.000000</td>\n",
       "      <td>3.000000</td>\n",
       "    </tr>\n",
       "    <tr>\n",
       "      <th>50%</th>\n",
       "      <td>0.082136</td>\n",
       "      <td>1.000000</td>\n",
       "      <td>1.000000</td>\n",
       "      <td>2.000000</td>\n",
       "      <td>100.000000</td>\n",
       "      <td>0.750000</td>\n",
       "      <td>48.600000</td>\n",
       "      <td>4.520000</td>\n",
       "      <td>0.000000</td>\n",
       "      <td>0.000000</td>\n",
       "      <td>1346.000000</td>\n",
       "      <td>2020.000000</td>\n",
       "      <td>6.000000</td>\n",
       "    </tr>\n",
       "    <tr>\n",
       "      <th>75%</th>\n",
       "      <td>0.084873</td>\n",
       "      <td>1.000000</td>\n",
       "      <td>1.000000</td>\n",
       "      <td>2.000000</td>\n",
       "      <td>100.000000</td>\n",
       "      <td>2.050000</td>\n",
       "      <td>58.612500</td>\n",
       "      <td>9.400000</td>\n",
       "      <td>0.000000</td>\n",
       "      <td>0.000000</td>\n",
       "      <td>2141.000000</td>\n",
       "      <td>2021.000000</td>\n",
       "      <td>9.000000</td>\n",
       "    </tr>\n",
       "    <tr>\n",
       "      <th>max</th>\n",
       "      <td>0.084873</td>\n",
       "      <td>1.000000</td>\n",
       "      <td>7.000000</td>\n",
       "      <td>5.000000</td>\n",
       "      <td>195.000000</td>\n",
       "      <td>57.320000</td>\n",
       "      <td>80.070000</td>\n",
       "      <td>19.580000</td>\n",
       "      <td>13154.600000</td>\n",
       "      <td>2.000000</td>\n",
       "      <td>3687.000000</td>\n",
       "      <td>2022.000000</td>\n",
       "      <td>12.000000</td>\n",
       "    </tr>\n",
       "  </tbody>\n",
       "</table>\n",
       "</div>"
      ],
      "text/plain": [
       "         EXPOSITION  V_GROUPE_SRA   V_PUISSANCE  C_ZONE_RISQUE         C_CRM  \\\n",
       "count  72878.000000  72878.000000  69298.000000   72878.000000  72878.000000   \n",
       "mean       0.075626      0.999767      1.168259       2.033124     97.405582   \n",
       "std        0.019123      0.015271      0.894770       1.212347      7.236469   \n",
       "min        0.002738      0.000000      0.000000       1.000000      0.000000   \n",
       "25%        0.079398      1.000000      1.000000       1.000000     95.000000   \n",
       "50%        0.082136      1.000000      1.000000       2.000000    100.000000   \n",
       "75%        0.084873      1.000000      1.000000       2.000000    100.000000   \n",
       "max        0.084873      1.000000      7.000000       5.000000    195.000000   \n",
       "\n",
       "       C_ANCIENNETE_PERMIS         C_AGE  V_ANCIENNETE        CHARGE  \\\n",
       "count         72878.000000  65460.000000  72878.000000  72878.000000   \n",
       "mean              2.387273     46.883134      5.762926     21.525779   \n",
       "std               6.363081     15.666065      4.724290    351.454691   \n",
       "min              -0.750000     14.520000     -1.140000  -6258.800000   \n",
       "25%               0.040000     36.600000      1.600000      0.000000   \n",
       "50%               0.750000     48.600000      4.520000      0.000000   \n",
       "75%               2.050000     58.612500      9.400000      0.000000   \n",
       "max              57.320000     80.070000     19.580000  13154.600000   \n",
       "\n",
       "       NB_SINISTRES            ID     ANNEE_OBS      MOIS_OBS  \n",
       "count  72878.000000  72878.000000  72878.000000  72878.000000  \n",
       "mean       0.008741   1451.338730   2019.738838      6.411825  \n",
       "std        0.096556    933.302155      1.549749      3.470973  \n",
       "min        0.000000      0.000000   2016.000000      1.000000  \n",
       "25%        0.000000    669.000000   2019.000000      3.000000  \n",
       "50%        0.000000   1346.000000   2020.000000      6.000000  \n",
       "75%        0.000000   2141.000000   2021.000000      9.000000  \n",
       "max        2.000000   3687.000000   2022.000000     12.000000  "
      ]
     },
     "execution_count": 9,
     "metadata": {},
     "output_type": "execute_result"
    }
   ],
   "source": [
    "base_auto.describe()"
   ]
  },
  {
   "cell_type": "markdown",
   "metadata": {},
   "source": [
    "Identification des données manquantes"
   ]
  },
  {
   "cell_type": "code",
   "execution_count": 13,
   "metadata": {},
   "outputs": [
    {
     "data": {
      "text/plain": [
       "FORMULE                   False\n",
       "EXPOSITION                False\n",
       "V_TYPE_GARAGE             False\n",
       "V_MARQUE                  False\n",
       "V_GROUPE_SRA              False\n",
       "V_PUISSANCE                True\n",
       "V_USAGE                   False\n",
       "C_CSP                     False\n",
       "C_ZONE_RISQUE             False\n",
       "C_TYPE_PERMIS             False\n",
       "C_CRM                     False\n",
       "C_ANCIENNETE_ASSURANCE    False\n",
       "C_ANCIENNETE_PERMIS       False\n",
       "C_AGE                      True\n",
       "V_ANCIENNETE              False\n",
       "CHARGE                    False\n",
       "NB_SINISTRES              False\n",
       "ID                        False\n",
       "CODE_POSTAL                True\n",
       "ANNEE_OBS                 False\n",
       "MOIS_OBS                  False\n",
       "dtype: bool"
      ]
     },
     "execution_count": 13,
     "metadata": {},
     "output_type": "execute_result"
    }
   ],
   "source": [
    "base_auto.isna().any()"
   ]
  },
  {
   "cell_type": "code",
   "execution_count": 19,
   "metadata": {},
   "outputs": [
    {
     "data": {
      "text/plain": [
       "FORMULE                      0\n",
       "EXPOSITION                   0\n",
       "V_TYPE_GARAGE                0\n",
       "V_MARQUE                     0\n",
       "V_GROUPE_SRA                 0\n",
       "V_PUISSANCE               3580\n",
       "V_USAGE                      0\n",
       "C_CSP                        0\n",
       "C_ZONE_RISQUE                0\n",
       "C_TYPE_PERMIS                0\n",
       "C_CRM                        0\n",
       "C_ANCIENNETE_ASSURANCE       0\n",
       "C_ANCIENNETE_PERMIS          0\n",
       "C_AGE                     7418\n",
       "V_ANCIENNETE                 0\n",
       "CHARGE                       0\n",
       "NB_SINISTRES                 0\n",
       "ID                           0\n",
       "CODE_POSTAL                911\n",
       "ANNEE_OBS                    0\n",
       "MOIS_OBS                     0\n",
       "dtype: int64"
      ]
     },
     "execution_count": 19,
     "metadata": {},
     "output_type": "execute_result"
    }
   ],
   "source": [
    "base_auto.isna().sum()"
   ]
  },
  {
   "cell_type": "markdown",
   "metadata": {},
   "source": [
    "### Nombre de contrats différents traités dans la base"
   ]
  },
  {
   "cell_type": "code",
   "execution_count": 20,
   "metadata": {},
   "outputs": [
    {
     "data": {
      "text/plain": [
       "ID\n",
       "14      83\n",
       "52      81\n",
       "23      81\n",
       "90      79\n",
       "96      79\n",
       "        ..\n",
       "3142     1\n",
       "1177     1\n",
       "1199     1\n",
       "1211     1\n",
       "3687     1\n",
       "Name: count, Length: 3688, dtype: int64"
      ]
     },
     "execution_count": 20,
     "metadata": {},
     "output_type": "execute_result"
    }
   ],
   "source": [
    "base_auto.ID.value_counts()"
   ]
  },
  {
   "cell_type": "markdown",
   "metadata": {},
   "source": [
    "### Nombre de formules différentes"
   ]
  },
  {
   "cell_type": "code",
   "execution_count": 22,
   "metadata": {},
   "outputs": [
    {
     "data": {
      "text/plain": [
       "FORMULE\n",
       "TOUT_RISQUE    40062\n",
       "CONFORT        24368\n",
       "BASE            8448\n",
       "Name: count, dtype: int64"
      ]
     },
     "execution_count": 22,
     "metadata": {},
     "output_type": "execute_result"
    }
   ],
   "source": [
    "base_auto.FORMULE.value_counts()"
   ]
  }
 ],
 "metadata": {
  "kernelspec": {
   "display_name": ".venv",
   "language": "python",
   "name": "python3"
  },
  "language_info": {
   "codemirror_mode": {
    "name": "ipython",
    "version": 3
   },
   "file_extension": ".py",
   "mimetype": "text/x-python",
   "name": "python",
   "nbconvert_exporter": "python",
   "pygments_lexer": "ipython3",
   "version": "3.12.3"
  }
 },
 "nbformat": 4,
 "nbformat_minor": 2
}
